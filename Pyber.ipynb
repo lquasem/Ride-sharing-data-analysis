{
 "cells": [
  {
   "cell_type": "markdown",
   "metadata": {},
   "source": [
    "# Pyber Ride Sharing Data Analysis\n",
    "\n",
    "As a whole, urban cities outrank suburban and rural cities, with significant more numbers of rides, drivers and fares.\n",
    "\n",
    "This result indicates the major factor contributing to the total number of rides, is the number of drivers, as 80% of the drivers are based in the urban cities.\n",
    "\n",
    "Looking at the total fares by city type, in the suburbs we can see that 30% of the total fares is in direct correlation with 26%  of the total rides. \n",
    "\n",
    "The rural areas account for less than 10% of the rides and fares, while only 2% of the drivers serve these areas.\n",
    "\n",
    "The results indicate, just because most of the drivers are in the urban cities they do not make, on average as much money per ride, as their counterparts in the suburbs and rural areas."
   ]
  },
  {
   "cell_type": "code",
   "execution_count": 14,
   "metadata": {},
   "outputs": [],
   "source": [
    "import matplotlib.pyplot as plt\n",
    "import pandas as pd\n",
    "import numpy as np"
   ]
  },
  {
   "cell_type": "code",
   "execution_count": 15,
   "metadata": {},
   "outputs": [
    {
     "data": {
      "text/html": [
       "<div>\n",
       "<style scoped>\n",
       "    .dataframe tbody tr th:only-of-type {\n",
       "        vertical-align: middle;\n",
       "    }\n",
       "\n",
       "    .dataframe tbody tr th {\n",
       "        vertical-align: top;\n",
       "    }\n",
       "\n",
       "    .dataframe thead th {\n",
       "        text-align: right;\n",
       "    }\n",
       "</style>\n",
       "<table border=\"1\" class=\"dataframe\">\n",
       "  <thead>\n",
       "    <tr style=\"text-align: right;\">\n",
       "      <th></th>\n",
       "      <th>city</th>\n",
       "      <th>driver_count</th>\n",
       "      <th>type</th>\n",
       "    </tr>\n",
       "  </thead>\n",
       "  <tbody>\n",
       "    <tr>\n",
       "      <th>0</th>\n",
       "      <td>Richardfort</td>\n",
       "      <td>38</td>\n",
       "      <td>Urban</td>\n",
       "    </tr>\n",
       "    <tr>\n",
       "      <th>1</th>\n",
       "      <td>Williamsstad</td>\n",
       "      <td>59</td>\n",
       "      <td>Urban</td>\n",
       "    </tr>\n",
       "    <tr>\n",
       "      <th>2</th>\n",
       "      <td>Port Angela</td>\n",
       "      <td>67</td>\n",
       "      <td>Urban</td>\n",
       "    </tr>\n",
       "    <tr>\n",
       "      <th>3</th>\n",
       "      <td>Rodneyfort</td>\n",
       "      <td>34</td>\n",
       "      <td>Urban</td>\n",
       "    </tr>\n",
       "    <tr>\n",
       "      <th>4</th>\n",
       "      <td>West Robert</td>\n",
       "      <td>39</td>\n",
       "      <td>Urban</td>\n",
       "    </tr>\n",
       "  </tbody>\n",
       "</table>\n",
       "</div>"
      ],
      "text/plain": [
       "           city  driver_count   type\n",
       "0   Richardfort            38  Urban\n",
       "1  Williamsstad            59  Urban\n",
       "2   Port Angela            67  Urban\n",
       "3    Rodneyfort            34  Urban\n",
       "4   West Robert            39  Urban"
      ]
     },
     "execution_count": 15,
     "metadata": {},
     "output_type": "execute_result"
    }
   ],
   "source": [
    "#load files\n",
    "\n",
    "city_data_df = pd.read_csv(\"city_data.csv\")\n",
    "ride_data_df= pd.read_csv(\"ride_data.csv\")\n",
    "\n",
    "\n",
    "\n",
    "city_data_df.head()\n",
    "#ride_data_df.head()\n"
   ]
  },
  {
   "cell_type": "code",
   "execution_count": 16,
   "metadata": {
    "scrolled": true
   },
   "outputs": [
    {
     "data": {
      "text/html": [
       "<div>\n",
       "<style scoped>\n",
       "    .dataframe tbody tr th:only-of-type {\n",
       "        vertical-align: middle;\n",
       "    }\n",
       "\n",
       "    .dataframe tbody tr th {\n",
       "        vertical-align: top;\n",
       "    }\n",
       "\n",
       "    .dataframe thead th {\n",
       "        text-align: right;\n",
       "    }\n",
       "</style>\n",
       "<table border=\"1\" class=\"dataframe\">\n",
       "  <thead>\n",
       "    <tr style=\"text-align: right;\">\n",
       "      <th></th>\n",
       "      <th>city</th>\n",
       "      <th>driver_count</th>\n",
       "      <th>type</th>\n",
       "      <th>date</th>\n",
       "      <th>fare</th>\n",
       "      <th>ride_id</th>\n",
       "    </tr>\n",
       "  </thead>\n",
       "  <tbody>\n",
       "    <tr>\n",
       "      <th>0</th>\n",
       "      <td>Richardfort</td>\n",
       "      <td>38</td>\n",
       "      <td>Urban</td>\n",
       "      <td>2018-02-24 08:40:38</td>\n",
       "      <td>13.93</td>\n",
       "      <td>5628545007794</td>\n",
       "    </tr>\n",
       "    <tr>\n",
       "      <th>1</th>\n",
       "      <td>Richardfort</td>\n",
       "      <td>38</td>\n",
       "      <td>Urban</td>\n",
       "      <td>2018-02-13 12:46:07</td>\n",
       "      <td>14.00</td>\n",
       "      <td>910050116494</td>\n",
       "    </tr>\n",
       "    <tr>\n",
       "      <th>2</th>\n",
       "      <td>Richardfort</td>\n",
       "      <td>38</td>\n",
       "      <td>Urban</td>\n",
       "      <td>2018-02-16 13:52:19</td>\n",
       "      <td>17.92</td>\n",
       "      <td>820639054416</td>\n",
       "    </tr>\n",
       "    <tr>\n",
       "      <th>3</th>\n",
       "      <td>Richardfort</td>\n",
       "      <td>38</td>\n",
       "      <td>Urban</td>\n",
       "      <td>2018-02-01 20:18:28</td>\n",
       "      <td>10.26</td>\n",
       "      <td>9554935945413</td>\n",
       "    </tr>\n",
       "    <tr>\n",
       "      <th>4</th>\n",
       "      <td>Richardfort</td>\n",
       "      <td>38</td>\n",
       "      <td>Urban</td>\n",
       "      <td>2018-04-17 02:26:37</td>\n",
       "      <td>23.00</td>\n",
       "      <td>720020655850</td>\n",
       "    </tr>\n",
       "  </tbody>\n",
       "</table>\n",
       "</div>"
      ],
      "text/plain": [
       "          city  driver_count   type                 date   fare        ride_id\n",
       "0  Richardfort            38  Urban  2018-02-24 08:40:38  13.93  5628545007794\n",
       "1  Richardfort            38  Urban  2018-02-13 12:46:07  14.00   910050116494\n",
       "2  Richardfort            38  Urban  2018-02-16 13:52:19  17.92   820639054416\n",
       "3  Richardfort            38  Urban  2018-02-01 20:18:28  10.26  9554935945413\n",
       "4  Richardfort            38  Urban  2018-04-17 02:26:37  23.00   720020655850"
      ]
     },
     "execution_count": 16,
     "metadata": {},
     "output_type": "execute_result"
    }
   ],
   "source": [
    "# Combine the data into a single dataset\n",
    "\n",
    "combined_data = pd.merge(city_data_df, ride_data_df,how='inner',on=\"city\")\n",
    "\n",
    "combined_data.head()"
   ]
  },
  {
   "cell_type": "code",
   "execution_count": 17,
   "metadata": {},
   "outputs": [
    {
     "data": {
      "text/plain": [
       "city\n",
       "Amandaburgh      24.641667\n",
       "Barajasview      25.332273\n",
       "Barronchester    36.422500\n",
       "Bethanyland      32.956111\n",
       "Bradshawfurt     40.064000\n",
       "dtype: float64"
      ]
     },
     "execution_count": 17,
     "metadata": {},
     "output_type": "execute_result"
    }
   ],
   "source": [
    "total_fare_per_city = combined_data.groupby(\"city\").sum()[\"fare\"]\n",
    "total_rides_per_city = combined_data.groupby(\"city\").count()[\"ride_id\"]\n",
    "\n",
    "\n",
    "\n",
    "average_fare_per_city = total_fare_per_city/total_rides_per_city\n",
    "\n",
    "\n",
    "average_fare_per_city.head()\n"
   ]
  },
  {
   "cell_type": "code",
   "execution_count": 18,
   "metadata": {
    "scrolled": true
   },
   "outputs": [
    {
     "data": {
      "text/plain": [
       "city\n",
       "Amandaburgh      [12]\n",
       "Barajasview      [26]\n",
       "Barronchester    [11]\n",
       "Bethanyland      [22]\n",
       "Bradshawfurt      [7]\n",
       "Name: driver_count, dtype: object"
      ]
     },
     "execution_count": 18,
     "metadata": {},
     "output_type": "execute_result"
    }
   ],
   "source": [
    "total_drivers_per_city = combined_data.groupby(\"city\")[\"driver_count\"].unique()\n",
    "\n",
    "\n",
    "total_drivers_per_city.head()"
   ]
  },
  {
   "cell_type": "markdown",
   "metadata": {},
   "source": [
    "# Bubble Plot of Ride Sharing Data"
   ]
  },
  {
   "cell_type": "code",
   "execution_count": 19,
   "metadata": {},
   "outputs": [
    {
     "data": {
      "text/plain": [
       "city\n",
       "Amandaburgh         [Urban]\n",
       "Barajasview         [Urban]\n",
       "Barronchester    [Suburban]\n",
       "Bethanyland      [Suburban]\n",
       "Bradshawfurt        [Rural]\n",
       "Name: type, dtype: object"
      ]
     },
     "execution_count": 19,
     "metadata": {},
     "output_type": "execute_result"
    }
   ],
   "source": [
    "\n",
    "#Obtain the x and y coordinates for each of the three city types\n",
    "\n",
    "\n",
    "city_type = combined_data.groupby(\"city\")[\"type\"].unique()\n",
    "\n",
    "city_type.head()\n"
   ]
  },
  {
   "cell_type": "code",
   "execution_count": 20,
   "metadata": {},
   "outputs": [
    {
     "data": {
      "text/html": [
       "<div>\n",
       "<style scoped>\n",
       "    .dataframe tbody tr th:only-of-type {\n",
       "        vertical-align: middle;\n",
       "    }\n",
       "\n",
       "    .dataframe tbody tr th {\n",
       "        vertical-align: top;\n",
       "    }\n",
       "\n",
       "    .dataframe thead th {\n",
       "        text-align: right;\n",
       "    }\n",
       "</style>\n",
       "<table border=\"1\" class=\"dataframe\">\n",
       "  <thead>\n",
       "    <tr style=\"text-align: right;\">\n",
       "      <th></th>\n",
       "      <th>Type</th>\n",
       "      <th>Fares</th>\n",
       "      <th>Drivers</th>\n",
       "      <th>Rides</th>\n",
       "    </tr>\n",
       "    <tr>\n",
       "      <th>city</th>\n",
       "      <th></th>\n",
       "      <th></th>\n",
       "      <th></th>\n",
       "      <th></th>\n",
       "    </tr>\n",
       "  </thead>\n",
       "  <tbody>\n",
       "    <tr>\n",
       "      <th>Amandaburgh</th>\n",
       "      <td>[Urban]</td>\n",
       "      <td>24.641667</td>\n",
       "      <td>[12]</td>\n",
       "      <td>18</td>\n",
       "    </tr>\n",
       "    <tr>\n",
       "      <th>Barajasview</th>\n",
       "      <td>[Urban]</td>\n",
       "      <td>25.332273</td>\n",
       "      <td>[26]</td>\n",
       "      <td>22</td>\n",
       "    </tr>\n",
       "    <tr>\n",
       "      <th>Barronchester</th>\n",
       "      <td>[Suburban]</td>\n",
       "      <td>36.422500</td>\n",
       "      <td>[11]</td>\n",
       "      <td>16</td>\n",
       "    </tr>\n",
       "    <tr>\n",
       "      <th>Bethanyland</th>\n",
       "      <td>[Suburban]</td>\n",
       "      <td>32.956111</td>\n",
       "      <td>[22]</td>\n",
       "      <td>18</td>\n",
       "    </tr>\n",
       "    <tr>\n",
       "      <th>Bradshawfurt</th>\n",
       "      <td>[Rural]</td>\n",
       "      <td>40.064000</td>\n",
       "      <td>[7]</td>\n",
       "      <td>10</td>\n",
       "    </tr>\n",
       "  </tbody>\n",
       "</table>\n",
       "</div>"
      ],
      "text/plain": [
       "                     Type      Fares Drivers  Rides\n",
       "city                                               \n",
       "Amandaburgh       [Urban]  24.641667    [12]     18\n",
       "Barajasview       [Urban]  25.332273    [26]     22\n",
       "Barronchester  [Suburban]  36.422500    [11]     16\n",
       "Bethanyland    [Suburban]  32.956111    [22]     18\n",
       "Bradshawfurt      [Rural]  40.064000     [7]     10"
      ]
     },
     "execution_count": 20,
     "metadata": {},
     "output_type": "execute_result"
    }
   ],
   "source": [
    "# maka a new dataframe\n",
    "Summary_table = pd.DataFrame ({\"Type\" : city_type, \"Fares\" : average_fare_per_city,\n",
    "                           \"Drivers\" : total_drivers_per_city, \"Rides\" : total_rides_per_city})\n",
    "\n",
    "\n",
    "\n",
    "\n",
    "Summary_table.head()"
   ]
  },
  {
   "cell_type": "code",
   "execution_count": 21,
   "metadata": {},
   "outputs": [
    {
     "data": {
      "text/html": [
       "<div>\n",
       "<style scoped>\n",
       "    .dataframe tbody tr th:only-of-type {\n",
       "        vertical-align: middle;\n",
       "    }\n",
       "\n",
       "    .dataframe tbody tr th {\n",
       "        vertical-align: top;\n",
       "    }\n",
       "\n",
       "    .dataframe thead th {\n",
       "        text-align: right;\n",
       "    }\n",
       "</style>\n",
       "<table border=\"1\" class=\"dataframe\">\n",
       "  <thead>\n",
       "    <tr style=\"text-align: right;\">\n",
       "      <th></th>\n",
       "      <th>Type</th>\n",
       "      <th>Fares</th>\n",
       "      <th>Drivers</th>\n",
       "      <th>Rides</th>\n",
       "    </tr>\n",
       "    <tr>\n",
       "      <th>city</th>\n",
       "      <th></th>\n",
       "      <th></th>\n",
       "      <th></th>\n",
       "      <th></th>\n",
       "    </tr>\n",
       "  </thead>\n",
       "  <tbody>\n",
       "    <tr>\n",
       "      <th>Amandaburgh</th>\n",
       "      <td>[Urban]</td>\n",
       "      <td>24.641667</td>\n",
       "      <td>[12]</td>\n",
       "      <td>18</td>\n",
       "    </tr>\n",
       "    <tr>\n",
       "      <th>Barajasview</th>\n",
       "      <td>[Urban]</td>\n",
       "      <td>25.332273</td>\n",
       "      <td>[26]</td>\n",
       "      <td>22</td>\n",
       "    </tr>\n",
       "    <tr>\n",
       "      <th>Carriemouth</th>\n",
       "      <td>[Urban]</td>\n",
       "      <td>28.314444</td>\n",
       "      <td>[52]</td>\n",
       "      <td>27</td>\n",
       "    </tr>\n",
       "    <tr>\n",
       "      <th>Christopherfurt</th>\n",
       "      <td>[Urban]</td>\n",
       "      <td>24.501852</td>\n",
       "      <td>[41]</td>\n",
       "      <td>27</td>\n",
       "    </tr>\n",
       "    <tr>\n",
       "      <th>Deanville</th>\n",
       "      <td>[Urban]</td>\n",
       "      <td>25.842632</td>\n",
       "      <td>[49]</td>\n",
       "      <td>19</td>\n",
       "    </tr>\n",
       "  </tbody>\n",
       "</table>\n",
       "</div>"
      ],
      "text/plain": [
       "                    Type      Fares Drivers  Rides\n",
       "city                                              \n",
       "Amandaburgh      [Urban]  24.641667    [12]     18\n",
       "Barajasview      [Urban]  25.332273    [26]     22\n",
       "Carriemouth      [Urban]  28.314444    [52]     27\n",
       "Christopherfurt  [Urban]  24.501852    [41]     27\n",
       "Deanville        [Urban]  25.842632    [49]     19"
      ]
     },
     "execution_count": 21,
     "metadata": {},
     "output_type": "execute_result"
    }
   ],
   "source": [
    "# take each city type and groupby the drivers, and fares , rides\n",
    "\n",
    "\n",
    "Urban = Summary_table[Summary_table.Type == 'Urban']\n",
    "\n",
    "Suburban = Summary_table[Summary_table.Type == 'Suburban']\n",
    "\n",
    "Rural = Summary_table[Summary_table.Type == 'Rural']\n",
    "\n",
    "\n",
    "Urban.head()\n",
    "\n"
   ]
  },
  {
   "cell_type": "code",
   "execution_count": 22,
   "metadata": {
    "scrolled": true
   },
   "outputs": [
    {
     "name": "stdout",
     "output_type": "stream",
     "text": [
      "city\n",
      "Amandaburgh             12\n",
      "Barajasview             26\n",
      "Carriemouth             52\n",
      "Christopherfurt         41\n",
      "Deanville               49\n",
      "East Kaylahaven         65\n",
      "Erikaland               37\n",
      "Grahamburgh             61\n",
      "Huntermouth             37\n",
      "Hurleymouth             36\n",
      "Jerryton                64\n",
      "Johnton                 27\n",
      "Joneschester            39\n",
      "Justinberg              39\n",
      "Karenberg               22\n",
      "Karenside                5\n",
      "Lake Danielberg         19\n",
      "Lake Jonathanshire       5\n",
      "Lake Scottton           58\n",
      "Leahton                 17\n",
      "Liumouth                69\n",
      "Loganberg               23\n",
      "Martinezhaven           25\n",
      "New Jacobville          50\n",
      "New Kimberlyborough     33\n",
      "New Paulton             44\n",
      "New Paulville           44\n",
      "North Barbara           18\n",
      "North Jasmine           33\n",
      "North Jason              6\n",
      "                        ..\n",
      "Port Johnbury            3\n",
      "Port Samanthamouth      57\n",
      "Raymondhaven            11\n",
      "Reynoldsfurt            67\n",
      "Richardfort             38\n",
      "Roberthaven             47\n",
      "Robertport              12\n",
      "Rodneyfort              34\n",
      "Rogerston               25\n",
      "Royland                 64\n",
      "Simpsonburgh            21\n",
      "South Evanton           11\n",
      "South Jack              46\n",
      "South Karenland          4\n",
      "South Latoya            10\n",
      "South Michelleport      72\n",
      "South Phillip           38\n",
      "Valentineton            45\n",
      "West Angela             48\n",
      "West Anthony            70\n",
      "West Christopherberg    32\n",
      "West Ericstad           25\n",
      "West Gabriel            57\n",
      "West Heidi              28\n",
      "West Josephberg         45\n",
      "West Patrickchester     25\n",
      "West Robert             39\n",
      "West Samuelburgh        73\n",
      "Williamsstad            59\n",
      "Williamsview            46\n",
      "Name: Drivers, Length: 66, dtype: int64\n"
     ]
    }
   ],
   "source": [
    "\n",
    "#unlocking driver data\n",
    "\n",
    "print(Urban[\"Drivers\"].map(lambda x: x[0]))\n",
    "\n"
   ]
  },
  {
   "cell_type": "code",
   "execution_count": 23,
   "metadata": {
    "scrolled": true
   },
   "outputs": [
    {
     "data": {
      "text/plain": [
       "<function matplotlib.pyplot.show(*args, **kw)>"
      ]
     },
     "execution_count": 23,
     "metadata": {},
     "output_type": "execute_result"
    },
    {
     "data": {
      "image/png": "[encoded data removed]",
      "text/plain": [
       "<Figure size 432x288 with 1 Axes>"
      ]
     },
     "metadata": {
      "needs_background": "light"
     },
     "output_type": "display_data"
    }
   ],
   "source": [
    "plt.scatter(Urban.Rides, Urban.Fares, marker=\"o\", label =\"Urban\" , s=((Urban[\"Drivers\"].map(lambda x: x[0]))*10), facecolors=\"coral\", edgecolors=\"black\",\n",
    "             alpha=0.50)\n",
    "plt.scatter(Suburban.Rides,Suburban.Fares, marker=\"o\", label =\"Suburban\", s=((Suburban[\"Drivers\"].map(lambda x: x[0]))*10),facecolors=\"skyblue\", edgecolors=\"black\",\n",
    "           alpha=0.50)\n",
    "plt.scatter(Rural.Rides, Rural.Fares, marker=\"o\", label =\"Rural\", s=((Rural[\"Drivers\"].map(lambda x: x[0]))*10),facecolors=\"gold\", edgecolors=\"black\",\n",
    "            alpha=0.50)\n",
    "\n",
    "plt.xlabel(\"Total number of rides(Per city)\")\n",
    "plt.ylabel(\"Average fares $\")\n",
    "plt.title(\"Pyber Ride Sharing Data (2016)\")\n",
    "\n",
    "\n",
    "# Create a legend\n",
    "plt.legend(loc=\"best\")\n",
    "\n",
    "plt.figtext(0.99, 0.01,'Circle size corresponds with driver count in the city', va='top')\n",
    "plt.savefig(\"Pyber ride sharing data scatter plot.png\")\n",
    "\n",
    "# Set the upper and lower limits of our y axis\n",
    "plt.ylim(0,45)\n",
    "plt.xlim(0,45)\n",
    "\n",
    "plt.show"
   ]
  },
  {
   "cell_type": "markdown",
   "metadata": {},
   "source": [
    "# ## Total Fares by City Type\n"
   ]
  },
  {
   "cell_type": "code",
   "execution_count": 25,
   "metadata": {},
   "outputs": [],
   "source": [
    "Urban_df = Summary_table[Summary_table.Type == 'Urban']\n",
    "\n",
    "Suburban_df = Summary_table[Summary_table.Type == 'Suburban']\n",
    "\n",
    "Rural_df = Summary_table[Summary_table.Type == 'Rural']\n",
    "\n",
    "\n",
    "\n",
    "Total_Fares_Urban = (Urban_df['Fares'].sum(axis=0))\n",
    "Total_Fares_Suburban = (Suburban_df['Fares'].sum(axis=0))\n",
    "Total_Fares_Rural = (Rural_df['Fares'].sum(axis=0))\n",
    "\n",
    "Total_Fares = Total_Fares_Urban + Total_Fares_Suburban + Total_Fares_Rural\n",
    "\n",
    "Total_Fares_Urban_percentage = (Total_Fares_Urban/Total_Fares)*100\n",
    "Total_Fares_Suburban_percentage = (Total_Fares_Suburban/Total_Fares)*100\n",
    "Total_Fares_Rural_percentage = (Total_Fares_Rural/Total_Fares)*100\n",
    "\n"
   ]
  },
  {
   "cell_type": "code",
   "execution_count": 26,
   "metadata": {},
   "outputs": [
    {
     "data": {
      "image/png": "[encoded data removed]",
      "text/plain": [
       "<Figure size 432x288 with 1 Axes>"
      ]
     },
     "metadata": {},
     "output_type": "display_data"
    }
   ],
   "source": [
    "# Build Pie Chart\n",
    "\n",
    "\n",
    "# Labels for the sections of our pie chart\n",
    "labels = [\"Urban\",\"Suburban\",\"Rural\"]\n",
    "\n",
    "# The values of each section of the pie chart\n",
    "sizes = [Total_Fares_Urban_percentage,Total_Fares_Suburban_percentage,Total_Fares_Rural_percentage]\n",
    "\n",
    "# The colors of each section of the pie chart\n",
    "colors = [\"coral\", \"skyblue\", \"gold\"]\n",
    "\n",
    "# Tells matplotlib to seperate the \"Python\" section from the others\n",
    "explode = (0.1, 0, 0,)\n",
    "\n",
    "plt.pie(sizes, explode=explode, labels=labels, colors=colors,\n",
    "        autopct=\"%1.1f%%\", shadow=True, startangle=140)\n",
    "\n",
    "\n",
    "plt.title(\"% of Total Fares by City Type\")\n",
    "plt.savefig(\"Total fares by city type.png\")\n",
    "plt.show()\n"
   ]
  },
  {
   "cell_type": "markdown",
   "metadata": {},
   "source": [
    "# Total Rides by City Type"
   ]
  },
  {
   "cell_type": "code",
   "execution_count": 27,
   "metadata": {},
   "outputs": [
    {
     "name": "stdout",
     "output_type": "stream",
     "text": [
      "68.42105263157895\n",
      "26.31578947368421\n",
      "5.263157894736842\n"
     ]
    }
   ],
   "source": [
    "Urban_df = Summary_table[Summary_table.Type == 'Urban']\n",
    "\n",
    "Suburban_df = Summary_table[Summary_table.Type == 'Suburban']\n",
    "\n",
    "Rural_df = Summary_table[Summary_table.Type == 'Rural']\n",
    "\n",
    "Total_Rides_Urban = (Urban_df['Rides'].sum(axis=0))\n",
    "Total_Rides_Suburban = (Suburban_df['Rides'].sum(axis=0))\n",
    "Total_Rides_Rural = (Rural_df['Rides'].sum(axis=0))\n",
    "\n",
    "Total_Rides = Total_Rides_Urban + Total_Rides_Suburban + Total_Rides_Rural\n",
    "\n",
    "Total_Rides_Urban_percentage = (Total_Rides_Urban/Total_Rides)*100\n",
    "Total_Rides_Suburban_percentage = (Total_Rides_Suburban/Total_Rides)*100\n",
    "Total_Rides_Rural_percentage = (Total_Rides_Rural/Total_Rides)*100\n",
    "\n",
    "print(Total_Rides_Urban_percentage)\n",
    "print(Total_Rides_Suburban_percentage)\n",
    "print(Total_Rides_Rural_percentage)"
   ]
  },
  {
   "cell_type": "code",
   "execution_count": 28,
   "metadata": {},
   "outputs": [
    {
     "data": {
      "image/png": "[encoded data removed]",
      "text/plain": [
       "<Figure size 432x288 with 1 Axes>"
      ]
     },
     "metadata": {},
     "output_type": "display_data"
    }
   ],
   "source": [
    "# Build Pie Chart\n",
    "\n",
    "# Labels for the sections of our pie chart\n",
    "labels = [\"Urban\",\"Suburban\",\"Rural\"]\n",
    "\n",
    "# The values of each section of the pie chart\n",
    "sizes = [Total_Rides_Urban_percentage,Total_Rides_Suburban_percentage,Total_Rides_Rural_percentage]\n",
    "\n",
    "# The colors of each section of the pie chart\n",
    "colors = [\"coral\", \"skyblue\", \"gold\"]\n",
    "\n",
    "# Tells matplotlib to seperate the \"Python\" section from the others\n",
    "explode = (0.1, 0, 0,)\n",
    "\n",
    "plt.title = (\"% of rides by city type\")\n",
    "\n",
    "plt.pie(sizes, explode=explode, labels=labels, colors=colors,\n",
    "        autopct=\"%1.1f%%\", shadow=True, startangle=140)\n",
    "\n",
    "plt.savefig(\"Total rides by city type.png\")\n",
    "\n",
    "\n",
    "plt.show()\n"
   ]
  },
  {
   "cell_type": "markdown",
   "metadata": {},
   "source": [
    "# Total Drivers by City Type"
   ]
  },
  {
   "cell_type": "code",
   "execution_count": 29,
   "metadata": {},
   "outputs": [
    {
     "name": "stdout",
     "output_type": "stream",
     "text": [
      "[2405]\n",
      "[490]\n",
      "[78]\n"
     ]
    }
   ],
   "source": [
    "Urban = Summary_table[Summary_table.Type == 'Urban']\n",
    "\n",
    "Suburban = Summary_table[Summary_table.Type == 'Suburban']\n",
    "\n",
    "Rural = Summary_table[Summary_table.Type == 'Rural']\n",
    "\n",
    "\n",
    "\n",
    "\n",
    "Total_Drivers_Urban = (Urban['Drivers'].sum(axis=0))\n",
    "Total_Drivers_Suburban = (Suburban['Drivers'].sum(axis=0))\n",
    "Total_Drivers_Rural = (Rural['Drivers'].sum(axis=0))\n",
    "\n",
    "\n",
    "print(Total_Drivers_Urban)\n",
    "print(Total_Drivers_Suburban)\n",
    "print(Total_Drivers_Rural)\n",
    "\n",
    "\n"
   ]
  },
  {
   "cell_type": "code",
   "execution_count": 30,
   "metadata": {},
   "outputs": [
    {
     "name": "stdout",
     "output_type": "stream",
     "text": [
      "[80.89471914]\n",
      "[16.48166835]\n",
      "[2.62361251]\n"
     ]
    }
   ],
   "source": [
    "Total_Drivers = Total_Drivers_Urban + Total_Drivers_Suburban + Total_Drivers_Rural\n",
    "\n",
    "Total_Drivers_Urban_percentage = (Total_Drivers_Urban/Total_Drivers)*100\n",
    "Total_Drivers_Suburban_percentage = (Total_Drivers_Suburban/Total_Drivers)*100\n",
    "Total_Drivers_Rural_percentage = (Total_Drivers_Rural/Total_Drivers)*100\n",
    "\n",
    "print(Total_Drivers_Urban_percentage)\n",
    "print(Total_Drivers_Suburban_percentage)\n",
    "print(Total_Drivers_Rural_percentage)"
   ]
  },
  {
   "cell_type": "code",
   "execution_count": 31,
   "metadata": {},
   "outputs": [
    {
     "data": {
      "image/png": "[encoded data removed]",
      "text/plain": [
       "<Figure size 432x288 with 1 Axes>"
      ]
     },
     "metadata": {},
     "output_type": "display_data"
    }
   ],
   "source": [
    "# Build Pie Charts\n",
    "\n",
    "# Labels for the sections of our pie chart\n",
    "labels = [\"Urban\",\"Suburban\",\"Rural\"]\n",
    "\n",
    "# The values of each section of the pie chart\n",
    "sizes = [80.89471914,16.48166835,2.62361251]\n",
    "\n",
    "# The colors of each section of the pie chart\n",
    "colors = [\"coral\", \"skyblue\", \"gold\"]\n",
    "\n",
    "# Tells matplotlib to seperate the \"Python\" section from the others\n",
    "explode = (0.1, 0, 0,)\n",
    "\n",
    "plt.title =(\"% of drivers by city type\")\n",
    "\n",
    "\n",
    "plt.pie(sizes, explode=explode, labels=labels, colors=colors,\n",
    "        autopct=\"%1.1f%%\", shadow=True, startangle=140)\n",
    "\n",
    "# Save Figure\n",
    "plt.savefig(\"Total drivers by city type.png\")\n",
    "\n",
    "\n",
    "plt.show()\n"
   ]
  },
  {
   "cell_type": "code",
   "execution_count": null,
   "metadata": {},
   "outputs": [],
   "source": []
  },
  {
   "cell_type": "code",
   "execution_count": null,
   "metadata": {},
   "outputs": [],
   "source": []
  }
 ],
 "metadata": {
  "kernelspec": {
   "display_name": "Python 3",
   "language": "python",
   "name": "python3"
  },
  "language_info": {
   "codemirror_mode": {
    "name": "ipython",
    "version": 3
   },
   "file_extension": ".py",
   "mimetype": "text/x-python",
   "name": "python",
   "nbconvert_exporter": "python",
   "pygments_lexer": "ipython3",
   "version": "3.7.3"
  }
 },
 "nbformat": 4,
 "nbformat_minor": 2
}
